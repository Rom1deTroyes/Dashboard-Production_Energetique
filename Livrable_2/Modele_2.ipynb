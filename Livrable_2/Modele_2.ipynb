{
 "cells": [
  {
   "cell_type": "markdown",
   "id": "feede0f8-e45b-4ec3-bd28-ef0a9253785f",
   "metadata": {},
   "source": [
    "# Dashboard-Production_Energetique\n",
    "\n",
    "IA pour la prédiction de la production énergétique\n",
    "\n",
    "## Livrable 2\n",
    "\n",
    "Vous êtes un Data Scientist et développeur en IA, votre entreprise vous a confié une mission pour développer un Dashboard pour une entreprise de production énergétique issue du Gaz, du charbon, éolien ...\n",
    "\n",
    "## Cahier de charge\n",
    "\n",
    "A partir de l’historique de production de cette entreprise, développer :\n",
    "– Un/des modèle(s) IA pour faire la prédiction d’éventuelle production énergétique des différentes ressources au jour le jour chaque 5h.\n",
    "– Un/des modèle(s) IA pour faire la prédiction pour chaque mois sur l’année qui suit, c’est-à-dire, un modèle va recevoir les données de 2022 et le modèle va prédire 12 valeurs pour chaque mois de 2023, ces prédictions présentent la somme de la production pour tout le mois.\n",
    "– Un Dashboard pour mettre en œuvre cette solution.\n",
    "\n",
    "## Livrable\n",
    "\n",
    "– Livrable 2 : un Dashboard qui affiche 5 tracés pour les 5 ressources énergétiques et qui fait la prédiction pour chaque 5h qui suit (juste, pour la simulation du Dashboard, développer un code qui fait la prédiction chaque 1 min). Deadline : 20/09/2022 à 13h.\n",
    "\n"
   ]
  },
  {
   "cell_type": "code",
   "execution_count": null,
   "id": "e48d34de-33ad-4b7c-a2b5-115cea29fd2f",
   "metadata": {},
   "outputs": [],
   "source": []
  }
 ],
 "metadata": {
  "kernelspec": {
   "display_name": "Python 3 (ipykernel)",
   "language": "python",
   "name": "python3"
  },
  "language_info": {
   "codemirror_mode": {
    "name": "ipython",
    "version": 3
   },
   "file_extension": ".py",
   "mimetype": "text/x-python",
   "name": "python",
   "nbconvert_exporter": "python",
   "pygments_lexer": "ipython3",
   "version": "3.9.2"
  }
 },
 "nbformat": 4,
 "nbformat_minor": 5
}
