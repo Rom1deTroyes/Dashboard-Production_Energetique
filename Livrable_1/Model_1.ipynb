{
 "cells": [
  {
   "cell_type": "markdown",
   "id": "02925111-8c2f-4ff4-9fa5-d1a4e1d2d996",
   "metadata": {},
   "source": [
    "# Dashboard-Production_Energetique\n",
    "\n",
    "IA pour la prédiction de la production énergétique\n",
    "\n",
    "## Livrable 1\n",
    "\n",
    "Vous êtes un Data Scientist et développeur en IA, votre entreprise vous a confié une mission pour développer un Dashboard pour une entreprise de production énergétique issue du Gaz, du charbon, éolien ...\n",
    "\n",
    "## Cahier de charge\n",
    "\n",
    "A partir de l’historique de production de cette entreprise, développer :\n",
    "– Un/des modèle(s) IA pour faire la prédiction d’éventuelle production énergétique des différentes ressources au jour le jour chaque 5h.\n",
    "– Un/des modèle(s) IA pour faire la prédiction pour chaque mois sur l’année qui suit, c’est-à-dire, un modèle va recevoir les données de 2022 et le modèle va prédire 12 valeurs pour chaque mois de 2023, ces prédictions présentent la somme de la production pour tout le mois.\n",
    "– Un Dashboard pour mettre en œuvre cette solution.\n",
    "\n",
    "## Livrable\n",
    "\n",
    "– Livrable 1 : un notebook qui résume la partie expérimentale : préparation de données, prétraitement, apprentissage, test, mesure de performance et affichage de résultats. Deadline : 19/09/2022 à 17h."
   ]
  },
  {
   "cell_type": "code",
   "execution_count": null,
   "id": "7a1ec344-f056-447f-9bf5-83ed7e257ff0",
   "metadata": {},
   "outputs": [],
   "source": []
  }
 ],
 "metadata": {
  "kernelspec": {
   "display_name": "Python 3 (ipykernel)",
   "language": "python",
   "name": "python3"
  },
  "language_info": {
   "codemirror_mode": {
    "name": "ipython",
    "version": 3
   },
   "file_extension": ".py",
   "mimetype": "text/x-python",
   "name": "python",
   "nbconvert_exporter": "python",
   "pygments_lexer": "ipython3",
   "version": "3.9.2"
  },
  "toc-autonumbering": true
 },
 "nbformat": 4,
 "nbformat_minor": 5
}
